{
 "cells": [
  {
   "cell_type": "code",
   "execution_count": 1,
   "metadata": {},
   "outputs": [],
   "source": [
    "import matplotlib.pyplot as plt\n",
    "import numpy as np\n",
    "import pandas as pd\n",
    "import tensorflow as tf\n",
    "\n",
    "from kerastuner import Hyperband, HyperModel\n",
    "from tensorflow.keras import layers"
   ]
  },
  {
   "cell_type": "code",
   "execution_count": 2,
   "metadata": {},
   "outputs": [],
   "source": [
    "dataset = pd.read_csv('data/winequality/winequality-red.csv', delimiter=';')\n",
    "dataset = dataset.dropna()\n",
    "\n",
    "train_dataset = dataset.sample(frac=0.8, random_state=0)\n",
    "val_test_dataset = dataset.drop(train_dataset.index)\n",
    "val_dataset = val_test_dataset.sample(frac=0.5, random_state=0)\n",
    "test_dataset = val_test_dataset.drop(val_dataset.index)\n",
    "\n",
    "train_features = train_dataset.copy()\n",
    "val_features = val_dataset.copy()\n",
    "test_features = test_dataset.copy()\n",
    "\n",
    "train_labels = train_features.pop('quality')\n",
    "val_labels = val_features.pop('quality')\n",
    "test_labels = test_features.pop('quality')"
   ]
  },
  {
   "cell_type": "code",
   "execution_count": 3,
   "metadata": {},
   "outputs": [],
   "source": [
    "min_value = 1\n",
    "max_value = 8\n",
    "step_size = 1\n",
    "\n",
    "class DeepHyperModel(HyperModel):\n",
    "    def build(self, hp):\n",
    "        model = tf.keras.Sequential([\n",
    "            layers.experimental.preprocessing.Normalization(),\n",
    "            layers.Dense(units=hp.Int(\n",
    "                'units_1',\n",
    "                min_value=min_value,\n",
    "                max_value=max_value,\n",
    "                step=step_size\n",
    "            ), activation='relu'),\n",
    "            layers.Dense(units=hp.Int(\n",
    "                'units_2',\n",
    "                min_value=min_value,\n",
    "                max_value=max_value,\n",
    "                step=step_size\n",
    "            ), activation='relu'),\n",
    "            layers.Dense(units=hp.Int(\n",
    "                'units_3',\n",
    "                min_value=min_value,\n",
    "                max_value=max_value,\n",
    "                step=step_size\n",
    "            ), activation='relu'),\n",
    "            layers.Dense(units=hp.Int(\n",
    "                'units_4',\n",
    "                min_value=min_value,\n",
    "                max_value=max_value,\n",
    "                step=step_size\n",
    "            ), activation='relu'),\n",
    "            layers.Dense(units=hp.Int(\n",
    "                'units_5',\n",
    "                min_value=min_value,\n",
    "                max_value=max_value,\n",
    "                step=step_size\n",
    "            ), activation='relu'),\n",
    "            layers.Dense(units=hp.Int(\n",
    "                'units_6',\n",
    "                min_value=min_value,\n",
    "                max_value=max_value,\n",
    "                step=step_size\n",
    "            ), activation='relu'),\n",
    "            layers.Dense(units=hp.Int(\n",
    "                'units_7',\n",
    "                min_value=min_value,\n",
    "                max_value=max_value,\n",
    "                step=step_size\n",
    "            ), activation='relu'),\n",
    "            layers.Dense(units=hp.Int(\n",
    "                'units_8',\n",
    "                min_value=min_value,\n",
    "                max_value=max_value,\n",
    "                step=step_size\n",
    "            ), activation='relu'),\n",
    "            layers.Dense(1)\n",
    "        ])\n",
    "\n",
    "        model.compile(\n",
    "            optimizer=tf.keras.optimizers.Adam(learning_rate=hp.Float(\n",
    "                'learning_rate',\n",
    "                min_value=1e-6,\n",
    "                max_value=0.01,\n",
    "                sampling='LOG'\n",
    "            )),\n",
    "            loss='mean_squared_error'\n",
    "        )\n",
    "        return model"
   ]
  },
  {
   "cell_type": "code",
   "execution_count": 4,
   "metadata": {},
   "outputs": [
    {
     "name": "stdout",
     "output_type": "stream",
     "text": [
      "Search space summary\n",
      "Default search space size: 9\n",
      "units_1 (Int)\n",
      "{'default': None, 'conditions': [], 'min_value': 1, 'max_value': 8, 'step': 1, 'sampling': None}\n",
      "units_2 (Int)\n",
      "{'default': None, 'conditions': [], 'min_value': 1, 'max_value': 8, 'step': 1, 'sampling': None}\n",
      "units_3 (Int)\n",
      "{'default': None, 'conditions': [], 'min_value': 1, 'max_value': 8, 'step': 1, 'sampling': None}\n",
      "units_4 (Int)\n",
      "{'default': None, 'conditions': [], 'min_value': 1, 'max_value': 8, 'step': 1, 'sampling': None}\n",
      "units_5 (Int)\n",
      "{'default': None, 'conditions': [], 'min_value': 1, 'max_value': 8, 'step': 1, 'sampling': None}\n",
      "units_6 (Int)\n",
      "{'default': None, 'conditions': [], 'min_value': 1, 'max_value': 8, 'step': 1, 'sampling': None}\n",
      "units_7 (Int)\n",
      "{'default': None, 'conditions': [], 'min_value': 1, 'max_value': 8, 'step': 1, 'sampling': None}\n",
      "units_8 (Int)\n",
      "{'default': None, 'conditions': [], 'min_value': 1, 'max_value': 8, 'step': 1, 'sampling': None}\n",
      "learning_rate (Float)\n",
      "{'default': 1e-06, 'conditions': [], 'min_value': 1e-06, 'max_value': 0.01, 'step': None, 'sampling': 'log'}\n"
     ]
    }
   ],
   "source": [
    "HYPERBAND_MAX_EPOCHS = 200\n",
    "EXECUTION_PER_TRIAL = 3\n",
    "\n",
    "hypermodel = DeepHyperModel()\n",
    "\n",
    "tuner = Hyperband(\n",
    "    hypermodel,\n",
    "    max_epochs=HYPERBAND_MAX_EPOCHS,\n",
    "    objective='val_loss',\n",
    "    seed=42,\n",
    "    executions_per_trial=EXECUTION_PER_TRIAL,\n",
    "    directory='hyperband',\n",
    "    project_name='deep_net'\n",
    ")\n",
    "\n",
    "tuner.search_space_summary()"
   ]
  },
  {
   "cell_type": "code",
   "execution_count": null,
   "metadata": {},
   "outputs": [
    {
     "name": "stdout",
     "output_type": "stream",
     "text": [
      "Trial 182 Complete [00h 00m 03s]\n",
      "val_loss: 54.77245966593424\n",
      "\n",
      "Best val_loss So Far: 0.4280596176783244\n",
      "Total elapsed time: 00h 10m 36s\n",
      "\n",
      "Search: Running Trial #183\n",
      "\n",
      "Hyperparameter    |Value             |Best Value So Far \n",
      "units_1           |5                 |2                 \n",
      "units_2           |4                 |7                 \n",
      "units_3           |5                 |2                 \n",
      "units_4           |3                 |5                 \n",
      "units_5           |8                 |2                 \n",
      "units_6           |7                 |4                 \n",
      "units_7           |5                 |5                 \n",
      "units_8           |2                 |4                 \n",
      "learning_rate     |1.2722e-06        |0.007258          \n",
      "tuner/epochs      |8                 |67                \n",
      "tuner/initial_e...|0                 |23                \n",
      "tuner/bracket     |3                 |4                 \n",
      "tuner/round       |0                 |3                 \n",
      "\n",
      "Epoch 1/8\n",
      "40/40 [==============================] - 0s 4ms/step - loss: 25.4573 - val_loss: 25.2126\n",
      "Epoch 2/8\n",
      "40/40 [==============================] - 0s 2ms/step - loss: 25.4406 - val_loss: 25.1963\n",
      "Epoch 3/8\n",
      "40/40 [==============================] - 0s 2ms/step - loss: 25.4240 - val_loss: 25.1799\n",
      "Epoch 4/8\n",
      "40/40 [==============================] - 0s 1ms/step - loss: 25.4072 - val_loss: 25.1637\n",
      "Epoch 5/8\n",
      "40/40 [==============================] - 0s 2ms/step - loss: 25.3906 - val_loss: 25.1473\n",
      "Epoch 6/8\n",
      "40/40 [==============================] - 0s 1ms/step - loss: 25.3738 - val_loss: 25.1309\n",
      "Epoch 7/8\n",
      "40/40 [==============================] - 0s 1ms/step - loss: 25.3570 - val_loss: 25.1145\n",
      "Epoch 8/8\n",
      "40/40 [==============================] - 0s 2ms/step - loss: 25.3402 - val_loss: 25.0980\n",
      "Epoch 1/8\n"
     ]
    }
   ],
   "source": [
    "tuner.search(train_features, train_labels, validation_data=(val_features, val_labels))"
   ]
  },
  {
   "cell_type": "code",
   "execution_count": null,
   "metadata": {},
   "outputs": [],
   "source": [
    "best_model = tuner.get_best_models(num_models=1)[0]"
   ]
  },
  {
   "cell_type": "code",
   "execution_count": null,
   "metadata": {
    "scrolled": true
   },
   "outputs": [],
   "source": [
    "best_hps = tuner.get_best_hyperparameters()[0]\n",
    "model = tuner.hypermodel.build(best_hps)\n",
    "history = model.fit(train_features, train_labels, validation_data=(val_features, val_labels), epochs=200)"
   ]
  },
  {
   "cell_type": "code",
   "execution_count": null,
   "metadata": {},
   "outputs": [],
   "source": [
    "model.summary()"
   ]
  },
  {
   "cell_type": "code",
   "execution_count": null,
   "metadata": {},
   "outputs": [],
   "source": [
    "plt.plot(history.history['loss'], label='training data')\n",
    "plt.plot(history.history['val_loss'], label='validation data')\n",
    "plt.title('Losses')\n",
    "plt.ylabel('Loss value')\n",
    "plt.xlabel('No. epoch')\n",
    "plt.legend(loc=\"upper left\")\n",
    "plt.show()"
   ]
  },
  {
   "cell_type": "code",
   "execution_count": null,
   "metadata": {},
   "outputs": [],
   "source": [
    "loss = best_model.evaluate(val_features, val_labels)\n",
    "print(loss)\n",
    "\n",
    "loss = best_model.evaluate(test_features, test_labels)\n",
    "print(loss)"
   ]
  },
  {
   "cell_type": "code",
   "execution_count": null,
   "metadata": {},
   "outputs": [],
   "source": [
    "predicted_test_labels = model.predict(test_features)\n",
    "print(np.column_stack([predicted_test_labels, test_labels]))"
   ]
  },
  {
   "cell_type": "code",
   "execution_count": null,
   "metadata": {},
   "outputs": [],
   "source": []
  }
 ],
 "metadata": {
  "kernelspec": {
   "display_name": "Python 3",
   "language": "python",
   "name": "python3"
  },
  "language_info": {
   "codemirror_mode": {
    "name": "ipython",
    "version": 3
   },
   "file_extension": ".py",
   "mimetype": "text/x-python",
   "name": "python",
   "nbconvert_exporter": "python",
   "pygments_lexer": "ipython3",
   "version": "3.8.5"
  }
 },
 "nbformat": 4,
 "nbformat_minor": 1
}